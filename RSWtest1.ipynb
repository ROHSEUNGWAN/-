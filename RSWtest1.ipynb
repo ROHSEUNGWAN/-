{
  "nbformat": 4,
  "nbformat_minor": 0,
  "metadata": {
    "colab": {
      "name": "Untitled2.ipynb",
      "provenance": [],
      "collapsed_sections": [],
      "authorship_tag": "ABX9TyOR0C7nEM/c20bWdFg7MdRF",
      "include_colab_link": true
    },
    "kernelspec": {
      "name": "python3",
      "display_name": "Python 3"
    }
  },
  "cells": [
    {
      "cell_type": "markdown",
      "metadata": {
        "id": "view-in-github",
        "colab_type": "text"
      },
      "source": [
        "<a href=\"https://colab.research.google.com/github/ROHSEUNGWAN/-/blob/master/RSWtest1.ipynb\" target=\"_parent\"><img src=\"https://colab.research.google.com/assets/colab-badge.svg\" alt=\"Open In Colab\"/></a>"
      ]
    },
    {
      "cell_type": "code",
      "metadata": {
        "id": "QdVlU3Zolb15",
        "colab_type": "code",
        "outputId": "e3428dc9-2bde-43ad-a9c1-a337f9f05432",
        "colab": {
          "base_uri": "https://localhost:8080/",
          "height": 738
        }
      },
      "source": [
        "#8번\n",
        "i = 0\n",
        "while i <=100:\n",
        "    i = i + 5\n",
        "    print(i)\n",
        "\n",
        "    \n",
        "#8번    \n",
        "for i in range(5, 101, 5):\n",
        "    print(i)\n",
        "    \n",
        "\n"
      ],
      "execution_count": 9,
      "outputs": [
        {
          "output_type": "stream",
          "text": [
            "5\n",
            "10\n",
            "15\n",
            "20\n",
            "25\n",
            "30\n",
            "35\n",
            "40\n",
            "45\n",
            "50\n",
            "55\n",
            "60\n",
            "65\n",
            "70\n",
            "75\n",
            "80\n",
            "85\n",
            "90\n",
            "95\n",
            "100\n",
            "105\n",
            "5\n",
            "10\n",
            "15\n",
            "20\n",
            "25\n",
            "30\n",
            "35\n",
            "40\n",
            "45\n",
            "50\n",
            "55\n",
            "60\n",
            "65\n",
            "70\n",
            "75\n",
            "80\n",
            "85\n",
            "90\n",
            "95\n",
            "100\n"
          ],
          "name": "stdout"
        }
      ]
    },
    {
      "cell_type": "code",
      "metadata": {
        "id": "bM_s7XFooC1A",
        "colab_type": "code",
        "colab": {}
      },
      "source": [
        ""
      ],
      "execution_count": 0,
      "outputs": []
    },
    {
      "cell_type": "code",
      "metadata": {
        "id": "KBohXrS-oIj2",
        "colab_type": "code",
        "colab": {}
      },
      "source": [
        ""
      ],
      "execution_count": 0,
      "outputs": []
    },
    {
      "cell_type": "code",
      "metadata": {
        "id": "ccWDM0zOmDyA",
        "colab_type": "code",
        "colab": {
          "base_uri": "https://localhost:8080/",
          "height": 386
        },
        "outputId": "bddb0512-486b-4f7e-f5dc-f2d00d8c531a"
      },
      "source": [
        "#8번\n",
        "a = 5\n",
        "\n",
        "for i in range(1, 101):\n",
        "        if i%a == 0: \n",
        "            print(i)\n"
      ],
      "execution_count": 2,
      "outputs": [
        {
          "output_type": "stream",
          "text": [
            "5\n",
            "10\n",
            "15\n",
            "20\n",
            "25\n",
            "30\n",
            "35\n",
            "40\n",
            "45\n",
            "50\n",
            "55\n",
            "60\n",
            "65\n",
            "70\n",
            "75\n",
            "80\n",
            "85\n",
            "90\n",
            "95\n",
            "100\n",
            "ERROR! Session/line number was not unique in database. History logging moved to new session 63\n"
          ],
          "name": "stdout"
        }
      ]
    },
    {
      "cell_type": "code",
      "metadata": {
        "id": "Qk6lkx7enGCf",
        "colab_type": "code",
        "colab": {
          "base_uri": "https://localhost:8080/",
          "height": 34
        },
        "outputId": "8bda2c95-6fbd-4dda-b8db-52b3bbe25bb3"
      },
      "source": [
        "#9번\n",
        "a = 0\n",
        "\n",
        "sum = 0\n",
        "\n",
        "while a<100:\n",
        "\n",
        "    a = a+5\n",
        "\n",
        "    sum += a\n",
        "\n",
        "print(sum)\n",
        "\n"
      ],
      "execution_count": 4,
      "outputs": [
        {
          "output_type": "stream",
          "text": [
            "1050\n"
          ],
          "name": "stdout"
        }
      ]
    },
    {
      "cell_type": "code",
      "metadata": {
        "id": "f3lyo9tnnbgB",
        "colab_type": "code",
        "colab": {
          "base_uri": "https://localhost:8080/",
          "height": 34
        },
        "outputId": "39eafac4-176c-46d9-c7e7-ec3d59bed907"
      },
      "source": [
        "#9번\n",
        "a = 5\n",
        "\n",
        "sum = 0\n",
        "\n",
        "for i in range(1, 101):\n",
        "    if i%a == 0:\n",
        "        sum += i\n",
        "print(sum)"
      ],
      "execution_count": 8,
      "outputs": [
        {
          "output_type": "stream",
          "text": [
            "1050\n"
          ],
          "name": "stdout"
        }
      ]
    },
    {
      "cell_type": "code",
      "metadata": {
        "id": "8m5PGIULm7ik",
        "colab_type": "code",
        "colab": {
          "base_uri": "https://localhost:8080/",
          "height": 34
        },
        "outputId": "25b4378e-9253-45e5-ff7b-5fd28859d04f"
      },
      "source": [
        "#10번\n",
        "print(\"1부터 100까지 숫자 중 5의 배수의 갯수는\", int(100/5),\"개 입니다\")"
      ],
      "execution_count": 10,
      "outputs": [
        {
          "output_type": "stream",
          "text": [
            "1부터 100까지 숫자 중 5의 배수의 갯수는 20 개 입니다\n"
          ],
          "name": "stdout"
        }
      ]
    },
    {
      "cell_type": "code",
      "metadata": {
        "id": "JXkRGgLiobOg",
        "colab_type": "code",
        "colab": {
          "base_uri": "https://localhost:8080/",
          "height": 34
        },
        "outputId": "87c362fc-1d64-40ce-df03-53ed14e296b8"
      },
      "source": [
        "#10번\n",
        "num = []\n",
        "\n",
        "a = 5\n",
        "\n",
        "for i in range(1, 101):\n",
        "    if i%a == 0:\n",
        "        num.append(i)\n",
        "\n",
        "print(len(num))"
      ],
      "execution_count": 17,
      "outputs": [
        {
          "output_type": "stream",
          "text": [
            "20\n"
          ],
          "name": "stdout"
        }
      ]
    },
    {
      "cell_type": "code",
      "metadata": {
        "id": "XvvD6ACApRNb",
        "colab_type": "code",
        "colab": {}
      },
      "source": [
        ""
      ],
      "execution_count": 0,
      "outputs": []
    }
  ]
}